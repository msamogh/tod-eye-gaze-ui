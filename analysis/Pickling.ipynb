{
 "cells": [
  {
   "cell_type": "code",
   "execution_count": 15,
   "metadata": {},
   "outputs": [],
   "source": [
    "import pandas as pd\n",
    "import json\n",
    "from pathlib import Path\n",
    "from datetime import datetime\n",
    "\n",
    "from ds import Participant, GazePath"
   ]
  },
  {
   "cell_type": "code",
   "execution_count": 22,
   "metadata": {},
   "outputs": [],
   "source": [
    "EXCLUDE_NAMES = [\"Amogh Mannekote\", \"Mansi Singh\", \"Anviksha Sharma\", \"kmkm\", \"ash\", \"mansi\", \"hju bjh\", \"Sankalp Mathur\"]"
   ]
  },
  {
   "cell_type": "code",
   "execution_count": 23,
   "metadata": {},
   "outputs": [],
   "source": [
    "participants = []\n",
    "idx = 1\n",
    "for p in Path(\"../name-emails/\").glob(\"*.json\"):\n",
    "    with open(p) as f:\n",
    "        name_email = json.load(f)\n",
    "        if \"calibration_score\" not in name_email or name_email[\"name\"] in EXCLUDE_NAMES:\n",
    "            continue\n",
    "        participants.append(Participant(\n",
    "            name=name_email[\"name\"],\n",
    "            email=name_email[\"email_address\"],\n",
    "            calibaration_quality=int(name_email[\"calibration_score\"]),\n",
    "            start_time=datetime.utcfromtimestamp(float(p.stem)),\n",
    "        ))"
   ]
  },
  {
   "cell_type": "code",
   "execution_count": 24,
   "metadata": {},
   "outputs": [
    {
     "data": {
      "text/plain": [
       "[Participant(name='John Ng', email='johnng@ufl.edu', start_time=datetime.datetime(2022, 3, 24, 20, 58, 19, 116706), calibaration_quality=3, gaze_paths=[]),\n",
       " Participant(name='Mariana Molano', email='marianamolano@ufl.edu', start_time=datetime.datetime(2022, 3, 22, 17, 5, 41, 671388), calibaration_quality=3, gaze_paths=[])]"
      ]
     },
     "execution_count": 24,
     "metadata": {},
     "output_type": "execute_result"
    }
   ],
   "source": [
    "participants[:2]"
   ]
  },
  {
   "cell_type": "code",
   "execution_count": 25,
   "metadata": {},
   "outputs": [
    {
     "name": "stdout",
     "output_type": "stream",
     "text": [
      "18\n"
     ]
    },
    {
     "data": {
      "text/plain": [
       "[('Heting Wang', '2022-03-25 21:03:46.248357'),\n",
       " ('Raghav Gupta', '2022-03-25 19:39:57.838126'),\n",
       " ('Eric Navar', '2022-03-25 19:02:59.850827'),\n",
       " ('Jayavidhi Kumar', '2022-03-25 18:22:16.811646'),\n",
       " ('Yingbo Ma', '2022-03-25 14:14:15.168916'),\n",
       " ('Jasmine McKenzie', '2022-03-25 13:01:20.479027'),\n",
       " ('John Ng', '2022-03-24 20:58:19.116706'),\n",
       " ('Patriel Stapleton', '2022-03-24 18:59:05.612296'),\n",
       " ('Amal Hashky', '2022-03-24 17:02:48.240804'),\n",
       " ('Katarina Jurczyk', '2022-03-23 20:59:18.731983'),\n",
       " ('Nishant Agrawal', '2022-03-22 19:45:52.168187'),\n",
       " ('Monica Bhargavi Kodali', '2022-03-22 18:52:09.250428'),\n",
       " ('Mariana Molano', '2022-03-22 17:05:41.671388'),\n",
       " ('Josh Abraham', '2022-03-22 16:06:29.154850'),\n",
       " ('Shaina Murphy', '2022-03-22 14:56:39.521831'),\n",
       " ('Hengxu You', '2022-03-21 21:28:04.134762'),\n",
       " ('jahnavi Paruchuri', '2022-03-21 21:14:20.903205'),\n",
       " ('Sri Chaitanya Nulu', '2022-03-21 18:56:43.324268')]"
      ]
     },
     "execution_count": 25,
     "metadata": {},
     "output_type": "execute_result"
    }
   ],
   "source": [
    "# Only retain the latest log for duplicate logs from a single name\n",
    "filtered_participants = []\n",
    "for p in sorted(participants, key=lambda p: p.start_time, reverse=True):\n",
    "    if p.name not in [pp.name for pp in filtered_participants]:\n",
    "        filtered_participants.append(p)\n",
    "print(len(filtered_participants))\n",
    "[(p.name, str(p.start_time)) for p in filtered_participants]"
   ]
  },
  {
   "cell_type": "code",
   "execution_count": 26,
   "metadata": {},
   "outputs": [
    {
     "name": "stdout",
     "output_type": "stream",
     "text": [
      "Heting Wang heting.wang@ufl.edu\n",
      "Raghav Gupta gupta.raghav@ufl.edu\n",
      "Eric Navar ericnavar@ufl.edu\n",
      "Jayavidhi Kumar kumar.j@ufl.edu\n",
      "Yingbo Ma yingbo.ma@ufl.edu\n",
      "Jasmine McKenzie jasminemckenzie@ufl.edu\n",
      "John Ng johnng@ufl.edu\n",
      "Patriel Stapleton pstapleton@ufl.edu\n",
      "Amal Hashky ahashky@ufl.edu\n",
      "Katarina Jurczyk kjurczyk@ufl.edu\n",
      "Nishant Agrawal nag2965@gmail.com\n",
      "Monica Bhargavi Kodali mkodali@ufl.edu\n",
      "Mariana Molano marianamolano@ufl.edu\n",
      "Josh Abraham joshabraham@ufl.edu\n",
      "Shaina Murphy shainanmurphy@ufl.edu\n",
      "Hengxu You you.h@ufl.edu\n",
      "jahnavi Paruchuri paruchurijahnavi@ufl.edu\n",
      "Sri Chaitanya Nulu srichaitanyanulu@gmail.com\n"
     ]
    }
   ],
   "source": [
    "for idx, participant in enumerate(filtered_participants):\n",
    "    gaze_dir = Path(\"../gaze-paths\") / participant.email\n",
    "    print(participant.name, participant.email)\n",
    "    for dialogue_file in gaze_dir.glob(\"*.json\"):\n",
    "        gaze_log = json.load(open(dialogue_file, \"r\"))\n",
    "        gaze_path = GazePath(\n",
    "            submit_time=gaze_log[\"timestamp\"],\n",
    "            dst=gaze_log[\"dst\"],\n",
    "            turns_time_series={\n",
    "                float(timestamp) / 1000.0: int(turn)\n",
    "                for timestamp, turn in gaze_log[\"turnsTimeSeries\"].items()\n",
    "            },\n",
    "            prompt=gaze_log[\"prompt\"]\n",
    "        )\n",
    "        participant.gaze_paths.append(gaze_path)"
   ]
  },
  {
   "cell_type": "code",
   "execution_count": 27,
   "metadata": {},
   "outputs": [],
   "source": [
    "import pickle\n",
    "if not Path(\"processed/\").exists():\n",
    "    Path(\"processed/\").mkdir()\n",
    "pickle.dump(filtered_participants, open(\"processed/participants.pkl\", \"wb\"))"
   ]
  },
  {
   "cell_type": "code",
   "execution_count": null,
   "metadata": {},
   "outputs": [],
   "source": []
  },
  {
   "cell_type": "code",
   "execution_count": null,
   "metadata": {},
   "outputs": [],
   "source": []
  }
 ],
 "metadata": {
  "interpreter": {
   "hash": "e78bf4903358b3ee63f8041920f67726c5b27271272cdf14d612db182852a486"
  },
  "kernelspec": {
   "display_name": "Python 3.8.10 ('hcc-project-spring-22-0l-Hf1pn-py3.8')",
   "language": "python",
   "name": "python3"
  },
  "language_info": {
   "codemirror_mode": {
    "name": "ipython",
    "version": 3
   },
   "file_extension": ".py",
   "mimetype": "text/x-python",
   "name": "python",
   "nbconvert_exporter": "python",
   "pygments_lexer": "ipython3",
   "version": "3.8.10"
  },
  "orig_nbformat": 4
 },
 "nbformat": 4,
 "nbformat_minor": 2
}
