{
 "cells": [
  {
   "cell_type": "code",
   "execution_count": 24,
   "metadata": {},
   "outputs": [],
   "source": [
    "import pandas as pd\n",
    "\n",
    "df = pd.read_excel(\"processed/msamogh-turn-durations-seconds.xlsx\")\n",
    "df[\"turn_durations\"] = df[\"turn_durations\"].apply(eval)"
   ]
  },
  {
   "cell_type": "code",
   "execution_count": 25,
   "metadata": {},
   "outputs": [
    {
     "data": {
      "text/html": [
       "<div>\n",
       "<style scoped>\n",
       "    .dataframe tbody tr th:only-of-type {\n",
       "        vertical-align: middle;\n",
       "    }\n",
       "\n",
       "    .dataframe tbody tr th {\n",
       "        vertical-align: top;\n",
       "    }\n",
       "\n",
       "    .dataframe thead th {\n",
       "        text-align: right;\n",
       "    }\n",
       "</style>\n",
       "<table border=\"1\" class=\"dataframe\">\n",
       "  <thead>\n",
       "    <tr style=\"text-align: right;\">\n",
       "      <th></th>\n",
       "      <th>trajectory</th>\n",
       "      <th>prompt</th>\n",
       "      <th>turn_durations</th>\n",
       "      <th>even_turn_duration</th>\n",
       "      <th>odd_turn_duration</th>\n",
       "    </tr>\n",
       "  </thead>\n",
       "  <tbody>\n",
       "    <tr>\n",
       "      <th>0</th>\n",
       "      <td>GazePath(submit_time=1648243465776, dst={'area...</td>\n",
       "      <td>semi</td>\n",
       "      <td>{'2': 14.796999454498291, '1': 5.4239993095397...</td>\n",
       "      <td>39.333999</td>\n",
       "      <td>10.252</td>\n",
       "    </tr>\n",
       "    <tr>\n",
       "      <th>1</th>\n",
       "      <td>GazePath(submit_time=1648243136082, dst={'area...</td>\n",
       "      <td>semi</td>\n",
       "      <td>{'0': 10.121999979019165, '4': 19.889999866485...</td>\n",
       "      <td>55.585999</td>\n",
       "      <td>29.145</td>\n",
       "    </tr>\n",
       "    <tr>\n",
       "      <th>2</th>\n",
       "      <td>GazePath(submit_time=1648243035969, dst={'area...</td>\n",
       "      <td>semi</td>\n",
       "      <td>{'4': 33.115999937057495, '0': 34.605999708175...</td>\n",
       "      <td>104.575000</td>\n",
       "      <td>21.390</td>\n",
       "    </tr>\n",
       "    <tr>\n",
       "      <th>3</th>\n",
       "      <td>GazePath(submit_time=1648243317732, dst={'area...</td>\n",
       "      <td>semi</td>\n",
       "      <td>{'0': 9.204999923706055, '1': 3.39199995994567...</td>\n",
       "      <td>29.280999</td>\n",
       "      <td>4.471</td>\n",
       "    </tr>\n",
       "    <tr>\n",
       "      <th>4</th>\n",
       "      <td>GazePath(submit_time=1648243279922, dst={'area...</td>\n",
       "      <td>semi</td>\n",
       "      <td>{'0': 14.164000034332275, '4': 9.2470004558563...</td>\n",
       "      <td>46.672001</td>\n",
       "      <td>24.226</td>\n",
       "    </tr>\n",
       "  </tbody>\n",
       "</table>\n",
       "</div>"
      ],
      "text/plain": [
       "                                          trajectory prompt  \\\n",
       "0  GazePath(submit_time=1648243465776, dst={'area...   semi   \n",
       "1  GazePath(submit_time=1648243136082, dst={'area...   semi   \n",
       "2  GazePath(submit_time=1648243035969, dst={'area...   semi   \n",
       "3  GazePath(submit_time=1648243317732, dst={'area...   semi   \n",
       "4  GazePath(submit_time=1648243279922, dst={'area...   semi   \n",
       "\n",
       "                                      turn_durations  even_turn_duration  \\\n",
       "0  {'2': 14.796999454498291, '1': 5.4239993095397...           39.333999   \n",
       "1  {'0': 10.121999979019165, '4': 19.889999866485...           55.585999   \n",
       "2  {'4': 33.115999937057495, '0': 34.605999708175...          104.575000   \n",
       "3  {'0': 9.204999923706055, '1': 3.39199995994567...           29.280999   \n",
       "4  {'0': 14.164000034332275, '4': 9.2470004558563...           46.672001   \n",
       "\n",
       "   odd_turn_duration  \n",
       "0             10.252  \n",
       "1             29.145  \n",
       "2             21.390  \n",
       "3              4.471  \n",
       "4             24.226  "
      ]
     },
     "execution_count": 25,
     "metadata": {},
     "output_type": "execute_result"
    }
   ],
   "source": [
    "df[\"even_turn_duration\"] = df[\"turn_durations\"].apply(lambda x: sum([v for k, v in x.items() if int(k) % 2 == 0]))\n",
    "df[\"odd_turn_duration\"] = df[\"turn_durations\"].apply(lambda x: sum([v for k, v in x.items() if int(k) % 2 != 0]))\n",
    "df.head()"
   ]
  },
  {
   "cell_type": "code",
   "execution_count": 26,
   "metadata": {},
   "outputs": [
    {
     "data": {
      "text/html": [
       "<div>\n",
       "<style scoped>\n",
       "    .dataframe tbody tr th:only-of-type {\n",
       "        vertical-align: middle;\n",
       "    }\n",
       "\n",
       "    .dataframe tbody tr th {\n",
       "        vertical-align: top;\n",
       "    }\n",
       "\n",
       "    .dataframe thead th {\n",
       "        text-align: right;\n",
       "    }\n",
       "</style>\n",
       "<table border=\"1\" class=\"dataframe\">\n",
       "  <thead>\n",
       "    <tr style=\"text-align: right;\">\n",
       "      <th></th>\n",
       "      <th>even_turn_duration</th>\n",
       "      <th>odd_turn_duration</th>\n",
       "    </tr>\n",
       "    <tr>\n",
       "      <th>prompt</th>\n",
       "      <th></th>\n",
       "      <th></th>\n",
       "    </tr>\n",
       "  </thead>\n",
       "  <tbody>\n",
       "    <tr>\n",
       "      <th>goal</th>\n",
       "      <td>57.916403</td>\n",
       "      <td>18.751913</td>\n",
       "    </tr>\n",
       "    <tr>\n",
       "      <th>semi</th>\n",
       "      <td>51.338579</td>\n",
       "      <td>26.632474</td>\n",
       "    </tr>\n",
       "  </tbody>\n",
       "</table>\n",
       "</div>"
      ],
      "text/plain": [
       "        even_turn_duration  odd_turn_duration\n",
       "prompt                                       \n",
       "goal             57.916403          18.751913\n",
       "semi             51.338579          26.632474"
      ]
     },
     "execution_count": 26,
     "metadata": {},
     "output_type": "execute_result"
    }
   ],
   "source": [
    "df.groupby(\"prompt\").agg({\"even_turn_duration\": \"mean\", \"odd_turn_duration\": \"mean\"})"
   ]
  },
  {
   "cell_type": "code",
   "execution_count": 27,
   "metadata": {},
   "outputs": [
    {
     "data": {
      "text/html": [
       "<div>\n",
       "<style scoped>\n",
       "    .dataframe tbody tr th:only-of-type {\n",
       "        vertical-align: middle;\n",
       "    }\n",
       "\n",
       "    .dataframe tbody tr th {\n",
       "        vertical-align: top;\n",
       "    }\n",
       "\n",
       "    .dataframe thead th {\n",
       "        text-align: right;\n",
       "    }\n",
       "</style>\n",
       "<table border=\"1\" class=\"dataframe\">\n",
       "  <thead>\n",
       "    <tr style=\"text-align: right;\">\n",
       "      <th></th>\n",
       "      <th>even_turn_duration</th>\n",
       "      <th>odd_turn_duration</th>\n",
       "    </tr>\n",
       "    <tr>\n",
       "      <th>prompt</th>\n",
       "      <th></th>\n",
       "      <th></th>\n",
       "    </tr>\n",
       "  </thead>\n",
       "  <tbody>\n",
       "    <tr>\n",
       "      <th>goal</th>\n",
       "      <td>57.215001</td>\n",
       "      <td>14.681001</td>\n",
       "    </tr>\n",
       "    <tr>\n",
       "      <th>semi</th>\n",
       "      <td>51.918500</td>\n",
       "      <td>21.717500</td>\n",
       "    </tr>\n",
       "  </tbody>\n",
       "</table>\n",
       "</div>"
      ],
      "text/plain": [
       "        even_turn_duration  odd_turn_duration\n",
       "prompt                                       \n",
       "goal             57.215001          14.681001\n",
       "semi             51.918500          21.717500"
      ]
     },
     "execution_count": 27,
     "metadata": {},
     "output_type": "execute_result"
    }
   ],
   "source": [
    "df.groupby(\"prompt\").agg({\"even_turn_duration\": \"median\", \"odd_turn_duration\": \"median\"})"
   ]
  },
  {
   "cell_type": "markdown",
   "metadata": {},
   "source": [
    "Normalize turn durations"
   ]
  },
  {
   "cell_type": "code",
   "execution_count": 28,
   "metadata": {},
   "outputs": [],
   "source": [
    "df[\"user_turn_duration_norm\"] = df.apply(lambda x: x[\"even_turn_duration\"] / (x[\"even_turn_duration\"] + x[\"odd_turn_duration\"]), axis=1)\n",
    "df[\"sys_turn_duration_norm\"] = df.apply(lambda x: x[\"odd_turn_duration\"] / (x[\"even_turn_duration\"] + x[\"odd_turn_duration\"]), axis=1)"
   ]
  },
  {
   "cell_type": "code",
   "execution_count": 35,
   "metadata": {},
   "outputs": [
    {
     "data": {
      "text/html": [
       "<div>\n",
       "<style scoped>\n",
       "    .dataframe tbody tr th:only-of-type {\n",
       "        vertical-align: middle;\n",
       "    }\n",
       "\n",
       "    .dataframe tbody tr th {\n",
       "        vertical-align: top;\n",
       "    }\n",
       "\n",
       "    .dataframe thead tr th {\n",
       "        text-align: left;\n",
       "    }\n",
       "\n",
       "    .dataframe thead tr:last-of-type th {\n",
       "        text-align: right;\n",
       "    }\n",
       "</style>\n",
       "<table border=\"1\" class=\"dataframe\">\n",
       "  <thead>\n",
       "    <tr>\n",
       "      <th></th>\n",
       "      <th colspan=\"2\" halign=\"left\">user_turn_duration_norm</th>\n",
       "      <th colspan=\"2\" halign=\"left\">sys_turn_duration_norm</th>\n",
       "    </tr>\n",
       "    <tr>\n",
       "      <th></th>\n",
       "      <th>mean</th>\n",
       "      <th>std</th>\n",
       "      <th>mean</th>\n",
       "      <th>std</th>\n",
       "    </tr>\n",
       "    <tr>\n",
       "      <th>prompt</th>\n",
       "      <th></th>\n",
       "      <th></th>\n",
       "      <th></th>\n",
       "      <th></th>\n",
       "    </tr>\n",
       "  </thead>\n",
       "  <tbody>\n",
       "    <tr>\n",
       "      <th>goal</th>\n",
       "      <td>0.755804</td>\n",
       "      <td>0.178644</td>\n",
       "      <td>0.244196</td>\n",
       "      <td>0.178644</td>\n",
       "    </tr>\n",
       "    <tr>\n",
       "      <th>semi</th>\n",
       "      <td>0.673766</td>\n",
       "      <td>0.193808</td>\n",
       "      <td>0.326234</td>\n",
       "      <td>0.193808</td>\n",
       "    </tr>\n",
       "  </tbody>\n",
       "</table>\n",
       "</div>"
      ],
      "text/plain": [
       "       user_turn_duration_norm           sys_turn_duration_norm          \n",
       "                          mean       std                   mean       std\n",
       "prompt                                                                   \n",
       "goal                  0.755804  0.178644               0.244196  0.178644\n",
       "semi                  0.673766  0.193808               0.326234  0.193808"
      ]
     },
     "execution_count": 35,
     "metadata": {},
     "output_type": "execute_result"
    }
   ],
   "source": [
    "df.groupby(\"prompt\").agg({\"user_turn_duration_norm\": [\"mean\", \"std\"], \"sys_turn_duration_norm\": [\"mean\", \"std\"]})"
   ]
  },
  {
   "cell_type": "code",
   "execution_count": null,
   "metadata": {},
   "outputs": [],
   "source": []
  },
  {
   "cell_type": "code",
   "execution_count": 29,
   "metadata": {},
   "outputs": [
    {
     "data": {
      "text/html": [
       "<div>\n",
       "<style scoped>\n",
       "    .dataframe tbody tr th:only-of-type {\n",
       "        vertical-align: middle;\n",
       "    }\n",
       "\n",
       "    .dataframe tbody tr th {\n",
       "        vertical-align: top;\n",
       "    }\n",
       "\n",
       "    .dataframe thead th {\n",
       "        text-align: right;\n",
       "    }\n",
       "</style>\n",
       "<table border=\"1\" class=\"dataframe\">\n",
       "  <thead>\n",
       "    <tr style=\"text-align: right;\">\n",
       "      <th></th>\n",
       "      <th>user_turn_duration_norm</th>\n",
       "      <th>sys_turn_duration_norm</th>\n",
       "    </tr>\n",
       "    <tr>\n",
       "      <th>prompt</th>\n",
       "      <th></th>\n",
       "      <th></th>\n",
       "    </tr>\n",
       "  </thead>\n",
       "  <tbody>\n",
       "    <tr>\n",
       "      <th>goal</th>\n",
       "      <td>0.789324</td>\n",
       "      <td>0.210676</td>\n",
       "    </tr>\n",
       "    <tr>\n",
       "      <th>semi</th>\n",
       "      <td>0.710191</td>\n",
       "      <td>0.289809</td>\n",
       "    </tr>\n",
       "  </tbody>\n",
       "</table>\n",
       "</div>"
      ],
      "text/plain": [
       "        user_turn_duration_norm  sys_turn_duration_norm\n",
       "prompt                                                 \n",
       "goal                   0.789324                0.210676\n",
       "semi                   0.710191                0.289809"
      ]
     },
     "execution_count": 29,
     "metadata": {},
     "output_type": "execute_result"
    }
   ],
   "source": [
    "df.groupby(\"prompt\").agg({\"user_turn_duration_norm\": \"median\", \"sys_turn_duration_norm\": \"median\"})"
   ]
  },
  {
   "cell_type": "code",
   "execution_count": 30,
   "metadata": {},
   "outputs": [],
   "source": [
    "from scipy.stats import ttest_ind"
   ]
  },
  {
   "cell_type": "code",
   "execution_count": 39,
   "metadata": {},
   "outputs": [
    {
     "data": {
      "text/plain": [
       "Ttest_indResult(statistic=3.8165276221207356, pvalue=0.00016449803527817126)"
      ]
     },
     "execution_count": 39,
     "metadata": {},
     "output_type": "execute_result"
    }
   ],
   "source": [
    "ttest_ind(\n",
    "    df[df[\"prompt\"] == \"goal\"][\"user_turn_duration_norm\"],\n",
    "    df[df[\"prompt\"] == \"semi\"][\"user_turn_duration_norm\"],\n",
    ")"
   ]
  },
  {
   "cell_type": "code",
   "execution_count": null,
   "metadata": {},
   "outputs": [
    {
     "data": {
      "text/plain": [
       "Ttest_indResult(statistic=3.816527622120729, pvalue=0.0001644980352781755)"
      ]
     },
     "execution_count": 9,
     "metadata": {},
     "output_type": "execute_result"
    }
   ],
   "source": [
    "ttest_ind(df[df[\"prompt\"] == \"semi\"][\"sys_turn_duration_norm\"], df[df[\"prompt\"] == \"goal\"][\"sys_turn_duration_norm\"])"
   ]
  },
  {
   "cell_type": "code",
   "execution_count": 37,
   "metadata": {},
   "outputs": [
    {
     "data": {
      "text/plain": [
       "Index(['trajectory', 'prompt', 'turn_durations', 'even_turn_duration',\n",
       "       'odd_turn_duration', 'user_turn_duration_norm',\n",
       "       'sys_turn_duration_norm'],\n",
       "      dtype='object')"
      ]
     },
     "execution_count": 37,
     "metadata": {},
     "output_type": "execute_result"
    }
   ],
   "source": [
    "df.columns"
   ]
  },
  {
   "cell_type": "code",
   "execution_count": 38,
   "metadata": {},
   "outputs": [
    {
     "data": {
      "text/plain": [
       "301"
      ]
     },
     "execution_count": 38,
     "metadata": {},
     "output_type": "execute_result"
    }
   ],
   "source": [
    "len(df)"
   ]
  },
  {
   "cell_type": "code",
   "execution_count": null,
   "metadata": {},
   "outputs": [],
   "source": []
  }
 ],
 "metadata": {
  "interpreter": {
   "hash": "c455c3fb6dbc3ed24e13f81e15a8c55413eb523b33ded4459a96208217f8d07d"
  },
  "kernelspec": {
   "display_name": "Python 3.9.5 ('cai')",
   "language": "python",
   "name": "python3"
  },
  "language_info": {
   "codemirror_mode": {
    "name": "ipython",
    "version": 3
   },
   "file_extension": ".py",
   "mimetype": "text/x-python",
   "name": "python",
   "nbconvert_exporter": "python",
   "pygments_lexer": "ipython3",
   "version": "3.8.10"
  },
  "orig_nbformat": 4
 },
 "nbformat": 4,
 "nbformat_minor": 2
}
