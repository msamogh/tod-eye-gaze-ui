{
 "cells": [
  {
   "cell_type": "code",
   "execution_count": 26,
   "metadata": {},
   "outputs": [],
   "source": [
    "import pandas as pd\n",
    "import json\n",
    "from pathlib import Path\n",
    "from datetime import datetime"
   ]
  },
  {
   "cell_type": "markdown",
   "metadata": {},
   "source": [
    "Populate dictionary with names and emails of participants"
   ]
  },
  {
   "cell_type": "code",
   "execution_count": 27,
   "metadata": {},
   "outputs": [],
   "source": [
    "EXCLUDE_NAMES = [\"Amogh Mannekote\", \"Mansi Singh\", \"kmkm\", \"ash\", \"mansi\", \"hju bjh\"]"
   ]
  },
  {
   "cell_type": "code",
   "execution_count": 40,
   "metadata": {},
   "outputs": [],
   "source": [
    "participants = []\n",
    "idx = 1\n",
    "for p in Path(\"../name-emails/\").glob(\"*.json\"):\n",
    "    with open(p) as f:\n",
    "        name_email = json.load(f)\n",
    "        if \"calibration_score\" not in name_email or name_email[\"name\"] in EXCLUDE_NAMES:\n",
    "            continue\n",
    "        participants.append({\n",
    "            \"idx\": idx,\n",
    "            \"name\": name_email[\"name\"],\n",
    "            \"email\": name_email[\"email_address\"],\n",
    "            \"calibration\": name_email[\"calibration_score\"],\n",
    "            \"start_time\": datetime.fromtimestamp(float(p.stem))\n",
    "        })\n",
    "        idx += 1"
   ]
  },
  {
   "cell_type": "code",
   "execution_count": 42,
   "metadata": {},
   "outputs": [
    {
     "data": {
      "text/plain": [
       "[(1, 'Anviksha Sharma', '2022-03-20 23:00:02.342730'),\n",
       " (2, 'Sankalp Mathur', '2022-03-20 23:57:42.625199'),\n",
       " (3, 'Sri Chaitanya Nulu', '2022-03-21 14:56:43.324268'),\n",
       " (4, 'jahnavi Paruchuri', '2022-03-21 16:39:16.535727'),\n",
       " (5, 'jahnavi Paruchuri', '2022-03-21 17:14:20.903205'),\n",
       " (6, 'Hengxu You', '2022-03-21 17:28:04.134762'),\n",
       " (7, 'Shaina Murphy', '2022-03-22 10:56:39.521831'),\n",
       " (8, 'Josh Abraham', '2022-03-22 12:06:29.154850'),\n",
       " (9, 'Mariana Molano', '2022-03-22 13:05:41.671388'),\n",
       " (10, 'Monica Bhargavi Kodali', '2022-03-22 14:52:09.250428'),\n",
       " (11, 'Nishant Agrawal', '2022-03-22 15:45:52.168187'),\n",
       " (12, 'Katarina Jurczyk', '2022-03-23 16:36:38.509651'),\n",
       " (13, 'Katarina Jurczyk', '2022-03-23 16:37:14.681310'),\n",
       " (14, 'Katarina Jurczyk', '2022-03-23 16:59:18.731983'),\n",
       " (15, 'Amal Hashky', '2022-03-24 13:02:48.240804'),\n",
       " (16, 'Patriel Stapleton', '2022-03-24 14:59:05.612296'),\n",
       " (17, 'John Ng', '2022-03-24 16:58:19.116706'),\n",
       " (18, 'Jasmine McKenzie', '2022-03-25 09:01:20.479027'),\n",
       " (19, 'Yingbo Ma', '2022-03-25 10:14:15.168916'),\n",
       " (20, 'Jayavidhi Kumar', '2022-03-25 14:22:16.811646'),\n",
       " (21, 'Eric Navar', '2022-03-25 15:02:59.850827'),\n",
       " (22, 'Raghav Gupta', '2022-03-25 15:39:57.838126'),\n",
       " (23, 'Heting Wang', '2022-03-25 17:03:46.248357')]"
      ]
     },
     "execution_count": 42,
     "metadata": {},
     "output_type": "execute_result"
    }
   ],
   "source": [
    "[(p[\"idx\"], p[\"name\"], str(p[\"start_time\"])) for p in participants]"
   ]
  },
  {
   "cell_type": "markdown",
   "metadata": {},
   "source": [
    "Add gaze paths information to each participant's dict"
   ]
  },
  {
   "cell_type": "code",
   "execution_count": null,
   "metadata": {},
   "outputs": [],
   "source": [
    "for name, email in participants.items():\n",
    "    Path(\"../gaze-paths/\") / email / \".json\").listdir()[0]\n",
    "    with open(\n",
    "        gaze_paths = json.load(f)\n",
    "        participants[name][\"gaze_paths\"] = gaze_paths"
   ]
  }
 ],
 "metadata": {
  "interpreter": {
   "hash": "c455c3fb6dbc3ed24e13f81e15a8c55413eb523b33ded4459a96208217f8d07d"
  },
  "kernelspec": {
   "display_name": "Python 3.9.5 ('cai')",
   "language": "python",
   "name": "python3"
  },
  "language_info": {
   "codemirror_mode": {
    "name": "ipython",
    "version": 3
   },
   "file_extension": ".py",
   "mimetype": "text/x-python",
   "name": "python",
   "nbconvert_exporter": "python",
   "pygments_lexer": "ipython3",
   "version": "3.9.5"
  },
  "orig_nbformat": 4
 },
 "nbformat": 4,
 "nbformat_minor": 2
}
