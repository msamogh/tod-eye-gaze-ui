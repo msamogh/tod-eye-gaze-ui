{
 "cells": [
  {
   "cell_type": "code",
   "execution_count": 20,
   "metadata": {},
   "outputs": [],
   "source": [
    "import pandas as pd\n",
    "import json\n",
    "from pathlib import Path\n",
    "from datetime import datetime\n",
    "\n",
    "from ds import Participant, GazePath"
   ]
  },
  {
   "cell_type": "markdown",
   "metadata": {},
   "source": [
    "Populate dictionary with names and emails of participants"
   ]
  },
  {
   "cell_type": "code",
   "execution_count": 21,
   "metadata": {},
   "outputs": [],
   "source": [
    "EXCLUDE_NAMES = [\"Amogh Mannekote\", \"Mansi Singh\", \"kmkm\", \"ash\", \"mansi\", \"hju bjh\", \"Sankalp Mathur\"]"
   ]
  },
  {
   "cell_type": "code",
   "execution_count": 22,
   "metadata": {},
   "outputs": [],
   "source": [
    "participants = []\n",
    "idx = 1\n",
    "for p in Path(\"../name-emails/\").glob(\"*.json\"):\n",
    "    with open(p) as f:\n",
    "        name_email = json.load(f)\n",
    "        if \"calibration_score\" not in name_email or name_email[\"name\"] in EXCLUDE_NAMES:\n",
    "            continue\n",
    "        participants.append(Participant(\n",
    "            name=name_email[\"name\"],\n",
    "            email=name_email[\"email_address\"],\n",
    "            calibaration_quality=int(name_email[\"calibration_score\"]),\n",
    "            start_time=datetime.utcfromtimestamp(float(p.stem)),\n",
    "        ))"
   ]
  },
  {
   "cell_type": "code",
   "execution_count": 23,
   "metadata": {},
   "outputs": [
    {
     "data": {
      "text/plain": [
       "[Participant(name='John Ng', email='johnng@ufl.edu', start_time=datetime.datetime(2022, 3, 24, 20, 58, 19, 116706), calibaration_quality=3, gaze_paths=[]),\n",
       " Participant(name='Mariana Molano', email='marianamolano@ufl.edu', start_time=datetime.datetime(2022, 3, 22, 17, 5, 41, 671388), calibaration_quality=3, gaze_paths=[]),\n",
       " Participant(name='Jayavidhi Kumar', email='kumar.j@ufl.edu', start_time=datetime.datetime(2022, 3, 25, 18, 22, 16, 811646), calibaration_quality=3, gaze_paths=[]),\n",
       " Participant(name='Nishant Agrawal', email='nag2965@gmail.com', start_time=datetime.datetime(2022, 3, 22, 19, 45, 52, 168187), calibaration_quality=2, gaze_paths=[]),\n",
       " Participant(name='Jasmine McKenzie', email='jasminemckenzie@ufl.edu', start_time=datetime.datetime(2022, 3, 25, 13, 1, 20, 479027), calibaration_quality=3, gaze_paths=[]),\n",
       " Participant(name='Katarina Jurczyk', email='kjurczyk@ufl.edu', start_time=datetime.datetime(2022, 3, 23, 20, 37, 14, 681310), calibaration_quality=3, gaze_paths=[]),\n",
       " Participant(name='Amal Hashky', email='ahashky@ufl.edu', start_time=datetime.datetime(2022, 3, 24, 17, 2, 48, 240804), calibaration_quality=3, gaze_paths=[]),\n",
       " Participant(name='Yingbo Ma', email='yingbo.ma@ufl.edu', start_time=datetime.datetime(2022, 3, 25, 14, 14, 15, 168916), calibaration_quality=4, gaze_paths=[]),\n",
       " Participant(name='Eric Navar', email='ericnavar@ufl.edu', start_time=datetime.datetime(2022, 3, 25, 19, 2, 59, 850827), calibaration_quality=3, gaze_paths=[]),\n",
       " Participant(name='Katarina Jurczyk', email='kjurczyk@ufl.edu', start_time=datetime.datetime(2022, 3, 23, 20, 36, 38, 509651), calibaration_quality=3, gaze_paths=[]),\n",
       " Participant(name='jahnavi Paruchuri', email='paruchurijahnavi@ufl.edu', start_time=datetime.datetime(2022, 3, 21, 20, 39, 16, 535727), calibaration_quality=5, gaze_paths=[]),\n",
       " Participant(name='Katarina Jurczyk', email='kjurczyk@ufl.edu', start_time=datetime.datetime(2022, 3, 23, 20, 59, 18, 731983), calibaration_quality=3, gaze_paths=[]),\n",
       " Participant(name='Monica Bhargavi Kodali', email='mkodali@ufl.edu', start_time=datetime.datetime(2022, 3, 22, 18, 52, 9, 250428), calibaration_quality=2, gaze_paths=[]),\n",
       " Participant(name='Anviksha Sharma', email='anviksha1999@gmail.com', start_time=datetime.datetime(2022, 3, 21, 3, 0, 2, 342730), calibaration_quality=5, gaze_paths=[]),\n",
       " Participant(name='Patriel Stapleton', email='pstapleton@ufl.edu', start_time=datetime.datetime(2022, 3, 24, 18, 59, 5, 612296), calibaration_quality=3, gaze_paths=[]),\n",
       " Participant(name='Heting Wang', email='heting.wang@ufl.edu', start_time=datetime.datetime(2022, 3, 25, 21, 3, 46, 248357), calibaration_quality=3, gaze_paths=[]),\n",
       " Participant(name='Shaina Murphy', email='shainanmurphy@ufl.edu', start_time=datetime.datetime(2022, 3, 22, 14, 56, 39, 521831), calibaration_quality=2, gaze_paths=[]),\n",
       " Participant(name='Sri Chaitanya Nulu', email='srichaitanyanulu@gmail.com', start_time=datetime.datetime(2022, 3, 21, 18, 56, 43, 324268), calibaration_quality=1, gaze_paths=[]),\n",
       " Participant(name='Josh Abraham', email='joshabraham@ufl.edu', start_time=datetime.datetime(2022, 3, 22, 16, 6, 29, 154850), calibaration_quality=4, gaze_paths=[]),\n",
       " Participant(name='Raghav Gupta', email='gupta.raghav@ufl.edu', start_time=datetime.datetime(2022, 3, 25, 19, 39, 57, 838126), calibaration_quality=3, gaze_paths=[]),\n",
       " Participant(name='jahnavi Paruchuri', email='d@d.com', start_time=datetime.datetime(2022, 3, 21, 21, 14, 20, 903205), calibaration_quality=3, gaze_paths=[]),\n",
       " Participant(name='Hengxu You', email='you.h@ufl.edu', start_time=datetime.datetime(2022, 3, 21, 21, 28, 4, 134762), calibaration_quality=4, gaze_paths=[])]"
      ]
     },
     "execution_count": 23,
     "metadata": {},
     "output_type": "execute_result"
    }
   ],
   "source": [
    "participants"
   ]
  },
  {
   "cell_type": "code",
   "execution_count": 24,
   "metadata": {},
   "outputs": [
    {
     "name": "stdout",
     "output_type": "stream",
     "text": [
      "19\n"
     ]
    },
    {
     "data": {
      "text/plain": [
       "[('Heting Wang', '2022-03-25 21:03:46.248357'),\n",
       " ('Raghav Gupta', '2022-03-25 19:39:57.838126'),\n",
       " ('Eric Navar', '2022-03-25 19:02:59.850827'),\n",
       " ('Jayavidhi Kumar', '2022-03-25 18:22:16.811646'),\n",
       " ('Yingbo Ma', '2022-03-25 14:14:15.168916'),\n",
       " ('Jasmine McKenzie', '2022-03-25 13:01:20.479027'),\n",
       " ('John Ng', '2022-03-24 20:58:19.116706'),\n",
       " ('Patriel Stapleton', '2022-03-24 18:59:05.612296'),\n",
       " ('Amal Hashky', '2022-03-24 17:02:48.240804'),\n",
       " ('Katarina Jurczyk', '2022-03-23 20:59:18.731983'),\n",
       " ('Nishant Agrawal', '2022-03-22 19:45:52.168187'),\n",
       " ('Monica Bhargavi Kodali', '2022-03-22 18:52:09.250428'),\n",
       " ('Mariana Molano', '2022-03-22 17:05:41.671388'),\n",
       " ('Josh Abraham', '2022-03-22 16:06:29.154850'),\n",
       " ('Shaina Murphy', '2022-03-22 14:56:39.521831'),\n",
       " ('Hengxu You', '2022-03-21 21:28:04.134762'),\n",
       " ('jahnavi Paruchuri', '2022-03-21 21:14:20.903205'),\n",
       " ('Sri Chaitanya Nulu', '2022-03-21 18:56:43.324268'),\n",
       " ('Anviksha Sharma', '2022-03-21 03:00:02.342730')]"
      ]
     },
     "execution_count": 24,
     "metadata": {},
     "output_type": "execute_result"
    }
   ],
   "source": [
    "# Only retain the latest log for duplicate logs from a single name\n",
    "filtered_participants = []\n",
    "for p in sorted(participants, key=lambda p: p.start_time, reverse=True):\n",
    "    if p.name not in [pp.name for pp in filtered_participants]:\n",
    "        filtered_participants.append(p)\n",
    "print(len(filtered_participants))\n",
    "[(p.name, str(p.start_time)) for p in filtered_participants]"
   ]
  },
  {
   "cell_type": "markdown",
   "metadata": {},
   "source": [
    "Add gaze paths information to each participant's dict"
   ]
  },
  {
   "cell_type": "code",
   "execution_count": 25,
   "metadata": {},
   "outputs": [],
   "source": [
    "for idx, participant in enumerate(filtered_participants):\n",
    "    gaze_dir = Path(\"../gaze-paths\") / participant.email\n",
    "    for dialogue_file in gaze_dir.glob(\"*.json\"):\n",
    "        gaze_log = json.load(open(dialogue_file, \"r\"))\n",
    "        gaze_path = GazePath(\n",
    "            submit_time=gaze_log[\"timestamp\"],\n",
    "            dst=gaze_log[\"dst\"],\n",
    "            turns_time_series={\n",
    "                float(timestamp) / 1000.0: int(turn)\n",
    "                for timestamp, turn in gaze_log[\"turnsTimeSeries\"].items()\n",
    "            },\n",
    "            prompt=gaze_log[\"prompt\"]\n",
    "        )\n",
    "        participant.gaze_paths.append(gaze_path)"
   ]
  },
  {
   "cell_type": "code",
   "execution_count": 26,
   "metadata": {},
   "outputs": [],
   "source": [
    "# Separate into semi and goal trajectories\n",
    "semi_trajectories = []\n",
    "goal_trajectories = []\n",
    "for participant in filtered_participants:\n",
    "    for gaze_path in participant.gaze_paths:\n",
    "        if gaze_path.prompt == \"semi\":\n",
    "            semi_trajectories.append(gaze_path)\n",
    "        elif gaze_path.prompt == \"goal\":\n",
    "            goal_trajectories.append(gaze_path)\n",
    "\n",
    "semi_trajectories = pd.DataFrame({\"trajectory\": semi_trajectories, \"prompt\": \"semi\"})\n",
    "goal_trajectories = pd.DataFrame({\"trajectory\": goal_trajectories, \"prompt\": \"goal\"})\n",
    "trajectories = pd.concat([semi_trajectories, goal_trajectories])"
   ]
  },
  {
   "cell_type": "code",
   "execution_count": 27,
   "metadata": {},
   "outputs": [
    {
     "data": {
      "text/html": [
       "<div>\n",
       "<style scoped>\n",
       "    .dataframe tbody tr th:only-of-type {\n",
       "        vertical-align: middle;\n",
       "    }\n",
       "\n",
       "    .dataframe tbody tr th {\n",
       "        vertical-align: top;\n",
       "    }\n",
       "\n",
       "    .dataframe thead th {\n",
       "        text-align: right;\n",
       "    }\n",
       "</style>\n",
       "<table border=\"1\" class=\"dataframe\">\n",
       "  <thead>\n",
       "    <tr style=\"text-align: right;\">\n",
       "      <th></th>\n",
       "      <th>trajectory</th>\n",
       "      <th>prompt</th>\n",
       "    </tr>\n",
       "  </thead>\n",
       "  <tbody>\n",
       "    <tr>\n",
       "      <th>0</th>\n",
       "      <td>GazePath(submit_time=1648243465776, dst={'area...</td>\n",
       "      <td>semi</td>\n",
       "    </tr>\n",
       "    <tr>\n",
       "      <th>1</th>\n",
       "      <td>GazePath(submit_time=1648243136082, dst={'area...</td>\n",
       "      <td>semi</td>\n",
       "    </tr>\n",
       "    <tr>\n",
       "      <th>2</th>\n",
       "      <td>GazePath(submit_time=1648243035969, dst={'area...</td>\n",
       "      <td>semi</td>\n",
       "    </tr>\n",
       "    <tr>\n",
       "      <th>3</th>\n",
       "      <td>GazePath(submit_time=1648243317732, dst={'area...</td>\n",
       "      <td>semi</td>\n",
       "    </tr>\n",
       "    <tr>\n",
       "      <th>4</th>\n",
       "      <td>GazePath(submit_time=1648243279922, dst={'area...</td>\n",
       "      <td>semi</td>\n",
       "    </tr>\n",
       "  </tbody>\n",
       "</table>\n",
       "</div>"
      ],
      "text/plain": [
       "                                          trajectory prompt\n",
       "0  GazePath(submit_time=1648243465776, dst={'area...   semi\n",
       "1  GazePath(submit_time=1648243136082, dst={'area...   semi\n",
       "2  GazePath(submit_time=1648243035969, dst={'area...   semi\n",
       "3  GazePath(submit_time=1648243317732, dst={'area...   semi\n",
       "4  GazePath(submit_time=1648243279922, dst={'area...   semi"
      ]
     },
     "execution_count": 27,
     "metadata": {},
     "output_type": "execute_result"
    }
   ],
   "source": [
    "trajectories.head()"
   ]
  },
  {
   "cell_type": "code",
   "execution_count": 29,
   "metadata": {},
   "outputs": [],
   "source": [
    "from collections import defaultdict\n",
    "\n",
    "def duration_spent_on_turns(time_series):\n",
    "    durations = defaultdict(int)\n",
    "    # Convert dict to list of tuples - (timestamp, turn_idx)\n",
    "    time_series = sorted([(k, v) for k, v in time_series.turns_time_series.items()], key=lambda x: x[0])\n",
    "    if len(time_series) > 1:\n",
    "        prev_timestamp = time_series[0][0]\n",
    "        prev_turn = time_series[0][1]\n",
    "        idx = 0\n",
    "        while True:\n",
    "            timestamp, turn = time_series[idx]\n",
    "            if timestamp - prev_timestamp < 0.5 and prev_turn == turn:\n",
    "                durations[turn] += timestamp - prev_timestamp\n",
    "            prev_turn = turn\n",
    "            prev_timestamp = timestamp\n",
    "            idx += 1\n",
    "            if idx >= len(time_series):\n",
    "                break\n",
    "    return durations"
   ]
  },
  {
   "cell_type": "code",
   "execution_count": 30,
   "metadata": {},
   "outputs": [],
   "source": [
    "trajectories[\"turn_durations\"] = trajectories[\"trajectory\"].apply(duration_spent_on_turns)"
   ]
  },
  {
   "cell_type": "code",
   "execution_count": 31,
   "metadata": {},
   "outputs": [
    {
     "data": {
      "text/html": [
       "<div>\n",
       "<style scoped>\n",
       "    .dataframe tbody tr th:only-of-type {\n",
       "        vertical-align: middle;\n",
       "    }\n",
       "\n",
       "    .dataframe tbody tr th {\n",
       "        vertical-align: top;\n",
       "    }\n",
       "\n",
       "    .dataframe thead th {\n",
       "        text-align: right;\n",
       "    }\n",
       "</style>\n",
       "<table border=\"1\" class=\"dataframe\">\n",
       "  <thead>\n",
       "    <tr style=\"text-align: right;\">\n",
       "      <th></th>\n",
       "      <th>trajectory</th>\n",
       "      <th>prompt</th>\n",
       "      <th>turn_durations</th>\n",
       "    </tr>\n",
       "  </thead>\n",
       "  <tbody>\n",
       "    <tr>\n",
       "      <th>0</th>\n",
       "      <td>GazePath(submit_time=1648243465776, dst={'area...</td>\n",
       "      <td>semi</td>\n",
       "      <td>{\"2\": 14.796999454498291, \"1\": 5.4239993095397...</td>\n",
       "    </tr>\n",
       "    <tr>\n",
       "      <th>1</th>\n",
       "      <td>GazePath(submit_time=1648243136082, dst={'area...</td>\n",
       "      <td>semi</td>\n",
       "      <td>{\"0\": 10.121999979019165, \"4\": 19.889999866485...</td>\n",
       "    </tr>\n",
       "    <tr>\n",
       "      <th>2</th>\n",
       "      <td>GazePath(submit_time=1648243035969, dst={'area...</td>\n",
       "      <td>semi</td>\n",
       "      <td>{\"4\": 33.115999937057495, \"0\": 34.605999708175...</td>\n",
       "    </tr>\n",
       "    <tr>\n",
       "      <th>3</th>\n",
       "      <td>GazePath(submit_time=1648243317732, dst={'area...</td>\n",
       "      <td>semi</td>\n",
       "      <td>{\"0\": 9.204999923706055, \"1\": 3.39199995994567...</td>\n",
       "    </tr>\n",
       "    <tr>\n",
       "      <th>4</th>\n",
       "      <td>GazePath(submit_time=1648243279922, dst={'area...</td>\n",
       "      <td>semi</td>\n",
       "      <td>{\"0\": 14.164000034332275, \"4\": 9.2470004558563...</td>\n",
       "    </tr>\n",
       "  </tbody>\n",
       "</table>\n",
       "</div>"
      ],
      "text/plain": [
       "                                          trajectory prompt  \\\n",
       "0  GazePath(submit_time=1648243465776, dst={'area...   semi   \n",
       "1  GazePath(submit_time=1648243136082, dst={'area...   semi   \n",
       "2  GazePath(submit_time=1648243035969, dst={'area...   semi   \n",
       "3  GazePath(submit_time=1648243317732, dst={'area...   semi   \n",
       "4  GazePath(submit_time=1648243279922, dst={'area...   semi   \n",
       "\n",
       "                                      turn_durations  \n",
       "0  {\"2\": 14.796999454498291, \"1\": 5.4239993095397...  \n",
       "1  {\"0\": 10.121999979019165, \"4\": 19.889999866485...  \n",
       "2  {\"4\": 33.115999937057495, \"0\": 34.605999708175...  \n",
       "3  {\"0\": 9.204999923706055, \"1\": 3.39199995994567...  \n",
       "4  {\"0\": 14.164000034332275, \"4\": 9.2470004558563...  "
      ]
     },
     "execution_count": 31,
     "metadata": {},
     "output_type": "execute_result"
    }
   ],
   "source": [
    "trajectories[\"turn_durations\"] = trajectories[\"turn_durations\"].apply(json.dumps)\n",
    "trajectories.head()"
   ]
  },
  {
   "cell_type": "code",
   "execution_count": 32,
   "metadata": {},
   "outputs": [],
   "source": [
    "if not Path(\"processed/\").exists():\n",
    "    Path(\"processed/\").mkdir()\n",
    "trajectories.to_excel(\"processed/msamogh-turn-durations-seconds.xlsx\", index=False)"
   ]
  },
  {
   "cell_type": "code",
   "execution_count": null,
   "metadata": {},
   "outputs": [],
   "source": []
  }
 ],
 "metadata": {
  "interpreter": {
   "hash": "c455c3fb6dbc3ed24e13f81e15a8c55413eb523b33ded4459a96208217f8d07d"
  },
  "kernelspec": {
   "display_name": "Python 3.9.5 ('cai')",
   "language": "python",
   "name": "python3"
  },
  "language_info": {
   "codemirror_mode": {
    "name": "ipython",
    "version": 3
   },
   "file_extension": ".py",
   "mimetype": "text/x-python",
   "name": "python",
   "nbconvert_exporter": "python",
   "pygments_lexer": "ipython3",
   "version": "3.8.10"
  },
  "orig_nbformat": 4
 },
 "nbformat": 4,
 "nbformat_minor": 2
}
