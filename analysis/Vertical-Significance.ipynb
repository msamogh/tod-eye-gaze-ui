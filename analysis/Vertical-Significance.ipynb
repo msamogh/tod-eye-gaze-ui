{
 "cells": [
  {
   "cell_type": "code",
   "execution_count": 37,
   "metadata": {},
   "outputs": [],
   "source": [
    "import pandas as pd\n",
    "from scipy.stats import f_oneway, ttest_ind\n",
    "\n",
    "import statsmodels.api as sm\n",
    "from statsmodels.formula.api import ols"
   ]
  },
  {
   "cell_type": "code",
   "execution_count": 165,
   "metadata": {},
   "outputs": [],
   "source": [
    "df = pd.read_excel(\"processed/msamogh-turn-durations-seconds.xlsx\")\n",
    "df[\"turn_durations\"] = df[\"turn_durations\"].apply(eval)"
   ]
  },
  {
   "cell_type": "code",
   "execution_count": 166,
   "metadata": {},
   "outputs": [
    {
     "data": {
      "text/plain": [
       "301"
      ]
     },
     "execution_count": 166,
     "metadata": {},
     "output_type": "execute_result"
    }
   ],
   "source": [
    "len(df)"
   ]
  },
  {
   "cell_type": "code",
   "execution_count": 167,
   "metadata": {},
   "outputs": [],
   "source": [
    "df[\"num_turns\"] = df[\"turn_durations\"].apply(lambda x: max(map(int, x.keys())))"
   ]
  },
  {
   "cell_type": "code",
   "execution_count": 168,
   "metadata": {},
   "outputs": [
    {
     "name": "stdout",
     "output_type": "stream",
     "text": [
      "[0.4539247173800581, 0.05892768943936695, 0.5205466112664648]\n",
      "[0.16047071239758187, 0.05561782962814438, 0.7009762275778668, 0.10003113235983133]\n",
      "[0.22615428846535301, 0.774690127526494, 0.014059263688308446, 0.0030105315724473247, 0.0045119636600172075]\n",
      "[0.14288721572387297, 0.00438191297513708, 0.45304170021522727, 0.032577903930847335, 0.36202127485387603, 0.015814082375674977]\n",
      "[0.21106495386579993, 0.021326258780452318, 0.32409033047796065, 0.03382625871747413, 0.277896780179225, 0.012338079502790993, 0.14371429173617997]\n",
      "[0.06924630139086686, 0.041382773279012804, 0.2677151514602321, 0.09394086913357427, 0.42811596004195807, 0.01431267464002983, 0.09248922569704038, 0.004626006270142132]\n",
      "[0.04097631911473675, 0.06104198556115203, 0.27641538932339155, 0.0444575784951283, 0.23375781316769426, 0.11303054868426217, 0.2016583074935495, 0.030191917329003764, 0.005586634148086006]\n",
      "[0.1308175197318397, 0.13435702279889106, 0.22836092764714225, 0.003904651827365145, 0.20376544347494088, 0.032730638281601686, 0.21362566597961927, 0.044709982553454146, 0.01735473762244879, 0.0024274784021539814]\n",
      "[0.07591443257921536, 0.09870508257082658, 0.2422634783351112, 0.02920218053200885, 0.15538744293020346, 0.03166717352327709, 0.17012583170894188, 0.12867240528394205, 0.05979149129672914, 0.01653746703121424, 0.003188931665836462]\n",
      "[0.008017416034019202, 0.04144082206863897, 0.2945503963031527, 0.0642961618101694, 0.2578738930846606, 0.10030989391196575, 0.14918784538848825, 0.03317523136419364, 0.046668996629102, 0.010663668024461418, 0.0009735090204975325, 0.0016523735000329]\n",
      "[0.022929659688524257, 0.060882193255645776, 0.30814397288167483, 0.05705841644651549, 0.20154506514961051, 0.027453367123592094, 0.1696198283762614, 0.05415494420337965, 0.09323517056212088, 0.003629343394284966, 0.0013480389183901157]\n",
      "[0.07517134948054771, 0.08077863332401791, 0.19021405034271374, 0.08015828177035261, 0.2349338067211234, 0.09746196761315175, 0.13438211757650678, 0.07479793320150749, 0.016900153124281628, 0.011503668561566004, 0.0005661482808407536, 0.0031318900033902065]\n"
     ]
    },
    {
     "data": {
      "image/png": "[encoded data removed]",
      "text/plain": [
       "<Figure size 720x720 with 12 Axes>"
      ]
     },
     "metadata": {
      "needs_background": "light"
     },
     "output_type": "display_data"
    }
   ],
   "source": [
    "import matplotlib.pyplot as plt\n",
    "\n",
    "from collections import Counter, defaultdict\n",
    "from functools import reduce\n",
    "turn_durations = defaultdict(float)\n",
    "\n",
    "def cum_turn_duration(turn_durations):\n",
    "    result = defaultdict(float)\n",
    "    for turn_duration in turn_durations:\n",
    "        for turn, duration in turn_duration.items():\n",
    "            result[int(turn)] += duration\n",
    "        for turn, duration in turn_duration.items():\n",
    "            result[int(turn)] /= sum(turn_duration.values())\n",
    "    # Normalize per turn\n",
    "    # for k, v in result.items():\n",
    "    #     result[k] = v / sum(result.values())\n",
    "    return list(map(lambda x: x[1], sorted(result.items(), key=lambda x: x[0])))\n",
    "\n",
    "length_wise_turn_durations = df.groupby(\"num_turns\")[\"turn_durations\"].agg(cum_turn_duration)\n",
    "fig, axs = plt.subplots(nrows=len(length_wise_turn_durations) // 3, ncols=3, figsize=(10, 10))\n",
    "\n",
    "for idx, ax in zip(length_wise_turn_durations.index, axs.ravel()):\n",
    "    print(length_wise_turn_durations[idx])\n",
    "    ax.bar(list(range(len(length_wise_turn_durations[idx]))), length_wise_turn_durations[idx])\n",
    "    plt.title(f\"{idx} turns\")\n",
    "    plt.xlabel(\"Turn\")\n",
    "    plt.ylabel(\"Duration (s)\")\n",
    "    plt.bar(range(len(turn_durations)), turn_durations)\n",
    "# length_wise_turn_durations"
   ]
  },
  {
   "cell_type": "code",
   "execution_count": 169,
   "metadata": {},
   "outputs": [
    {
     "data": {
      "text/plain": [
       "186"
      ]
     },
     "execution_count": 169,
     "metadata": {},
     "output_type": "execute_result"
    }
   ],
   "source": [
    "# Filter only dialogues with < 6 turns\n",
    "df = df[df[\"turn_durations\"].apply(lambda x: max(map(float, x.keys())) < 9)]\n",
    "len(df)"
   ]
  },
  {
   "cell_type": "code",
   "execution_count": 93,
   "metadata": {},
   "outputs": [],
   "source": [
    "df[\"norm_turn\"] = df[\"turn_durations\"].apply(lambda x: {(float(turn) + 1) / (max(map(float, x)) + 1): duration for turn, duration in x.items()})"
   ]
  },
  {
   "cell_type": "code",
   "execution_count": 94,
   "metadata": {},
   "outputs": [],
   "source": [
    "df[\"early\"] = df[\"norm_turn\"].apply(lambda x: sum([duration for turn, duration in x.items() if turn <= 1/3]))\n",
    "df[\"mid\"] = df[\"norm_turn\"].apply(lambda x: sum([duration for turn, duration in x.items() if turn > 1/3 and turn <= 2/3]))\n",
    "df[\"late\"] = df[\"norm_turn\"].apply(lambda x: sum([duration for turn, duration in x.items() if turn >= 2/3]))\n",
    "\n",
    "df[\"total_duration\"] = df[\"norm_turn\"].apply(lambda x: sum([duration for _, duration in x.items()]))\n",
    "df[\"early_norm\"] = df[\"early\"] / df[\"total_duration\"]\n",
    "df[\"mid_norm\"] = df[\"mid\"] / df[\"total_duration\"]\n",
    "df[\"late_norm\"] = df[\"late\"] / df[\"total_duration\"]"
   ]
  },
  {
   "cell_type": "code",
   "execution_count": 95,
   "metadata": {},
   "outputs": [
    {
     "data": {
      "text/html": [
       "<div>\n",
       "<style scoped>\n",
       "    .dataframe tbody tr th:only-of-type {\n",
       "        vertical-align: middle;\n",
       "    }\n",
       "\n",
       "    .dataframe tbody tr th {\n",
       "        vertical-align: top;\n",
       "    }\n",
       "\n",
       "    .dataframe thead th {\n",
       "        text-align: right;\n",
       "    }\n",
       "</style>\n",
       "<table border=\"1\" class=\"dataframe\">\n",
       "  <thead>\n",
       "    <tr style=\"text-align: right;\">\n",
       "      <th></th>\n",
       "      <th>early</th>\n",
       "      <th>mid</th>\n",
       "      <th>late</th>\n",
       "    </tr>\n",
       "  </thead>\n",
       "  <tbody>\n",
       "    <tr>\n",
       "      <th>count</th>\n",
       "      <td>76.000000</td>\n",
       "      <td>76.000000</td>\n",
       "      <td>76.000000</td>\n",
       "    </tr>\n",
       "    <tr>\n",
       "      <th>mean</th>\n",
       "      <td>20.566013</td>\n",
       "      <td>23.215132</td>\n",
       "      <td>26.248829</td>\n",
       "    </tr>\n",
       "    <tr>\n",
       "      <th>std</th>\n",
       "      <td>20.085115</td>\n",
       "      <td>19.618805</td>\n",
       "      <td>18.782852</td>\n",
       "    </tr>\n",
       "    <tr>\n",
       "      <th>min</th>\n",
       "      <td>0.000000</td>\n",
       "      <td>0.701000</td>\n",
       "      <td>0.092000</td>\n",
       "    </tr>\n",
       "    <tr>\n",
       "      <th>25%</th>\n",
       "      <td>7.432250</td>\n",
       "      <td>9.180000</td>\n",
       "      <td>11.699500</td>\n",
       "    </tr>\n",
       "    <tr>\n",
       "      <th>50%</th>\n",
       "      <td>15.478000</td>\n",
       "      <td>19.399000</td>\n",
       "      <td>23.850000</td>\n",
       "    </tr>\n",
       "    <tr>\n",
       "      <th>75%</th>\n",
       "      <td>24.388751</td>\n",
       "      <td>32.273250</td>\n",
       "      <td>38.891000</td>\n",
       "    </tr>\n",
       "    <tr>\n",
       "      <th>max</th>\n",
       "      <td>112.582000</td>\n",
       "      <td>101.865000</td>\n",
       "      <td>76.360999</td>\n",
       "    </tr>\n",
       "  </tbody>\n",
       "</table>\n",
       "</div>"
      ],
      "text/plain": [
       "            early         mid       late\n",
       "count   76.000000   76.000000  76.000000\n",
       "mean    20.566013   23.215132  26.248829\n",
       "std     20.085115   19.618805  18.782852\n",
       "min      0.000000    0.701000   0.092000\n",
       "25%      7.432250    9.180000  11.699500\n",
       "50%     15.478000   19.399000  23.850000\n",
       "75%     24.388751   32.273250  38.891000\n",
       "max    112.582000  101.865000  76.360999"
      ]
     },
     "execution_count": 95,
     "metadata": {},
     "output_type": "execute_result"
    }
   ],
   "source": [
    "df[[\"early\", \"mid\", \"late\"]].describe()"
   ]
  },
  {
   "cell_type": "code",
   "execution_count": 96,
   "metadata": {},
   "outputs": [
    {
     "data": {
      "text/html": [
       "<div>\n",
       "<style scoped>\n",
       "    .dataframe tbody tr th:only-of-type {\n",
       "        vertical-align: middle;\n",
       "    }\n",
       "\n",
       "    .dataframe tbody tr th {\n",
       "        vertical-align: top;\n",
       "    }\n",
       "\n",
       "    .dataframe thead th {\n",
       "        text-align: right;\n",
       "    }\n",
       "</style>\n",
       "<table border=\"1\" class=\"dataframe\">\n",
       "  <thead>\n",
       "    <tr style=\"text-align: right;\">\n",
       "      <th></th>\n",
       "      <th>early_norm</th>\n",
       "      <th>mid_norm</th>\n",
       "      <th>late_norm</th>\n",
       "    </tr>\n",
       "  </thead>\n",
       "  <tbody>\n",
       "    <tr>\n",
       "      <th>count</th>\n",
       "      <td>76.000000</td>\n",
       "      <td>76.000000</td>\n",
       "      <td>76.000000</td>\n",
       "    </tr>\n",
       "    <tr>\n",
       "      <th>mean</th>\n",
       "      <td>0.310346</td>\n",
       "      <td>0.335017</td>\n",
       "      <td>0.407902</td>\n",
       "    </tr>\n",
       "    <tr>\n",
       "      <th>std</th>\n",
       "      <td>0.221830</td>\n",
       "      <td>0.207848</td>\n",
       "      <td>0.234534</td>\n",
       "    </tr>\n",
       "    <tr>\n",
       "      <th>min</th>\n",
       "      <td>0.000000</td>\n",
       "      <td>0.007845</td>\n",
       "      <td>0.000775</td>\n",
       "    </tr>\n",
       "    <tr>\n",
       "      <th>25%</th>\n",
       "      <td>0.169950</td>\n",
       "      <td>0.226206</td>\n",
       "      <td>0.239801</td>\n",
       "    </tr>\n",
       "    <tr>\n",
       "      <th>50%</th>\n",
       "      <td>0.259484</td>\n",
       "      <td>0.334678</td>\n",
       "      <td>0.426438</td>\n",
       "    </tr>\n",
       "    <tr>\n",
       "      <th>75%</th>\n",
       "      <td>0.412615</td>\n",
       "      <td>0.443170</td>\n",
       "      <td>0.551810</td>\n",
       "    </tr>\n",
       "    <tr>\n",
       "      <th>max</th>\n",
       "      <td>0.970593</td>\n",
       "      <td>0.953282</td>\n",
       "      <td>0.959441</td>\n",
       "    </tr>\n",
       "  </tbody>\n",
       "</table>\n",
       "</div>"
      ],
      "text/plain": [
       "       early_norm   mid_norm  late_norm\n",
       "count   76.000000  76.000000  76.000000\n",
       "mean     0.310346   0.335017   0.407902\n",
       "std      0.221830   0.207848   0.234534\n",
       "min      0.000000   0.007845   0.000775\n",
       "25%      0.169950   0.226206   0.239801\n",
       "50%      0.259484   0.334678   0.426438\n",
       "75%      0.412615   0.443170   0.551810\n",
       "max      0.970593   0.953282   0.959441"
      ]
     },
     "execution_count": 96,
     "metadata": {},
     "output_type": "execute_result"
    }
   ],
   "source": [
    "df[[\"early_norm\", \"mid_norm\", \"late_norm\"]].describe()"
   ]
  },
  {
   "cell_type": "code",
   "execution_count": 97,
   "metadata": {},
   "outputs": [
    {
     "data": {
      "text/plain": [
       "F_onewayResult(statistic=3.9794791816529824, pvalue=0.020026221446931485)"
      ]
     },
     "execution_count": 97,
     "metadata": {},
     "output_type": "execute_result"
    }
   ],
   "source": [
    "f_oneway(df[\"early_norm\"], df[\"mid_norm\"], df[\"late_norm\"])"
   ]
  },
  {
   "cell_type": "code",
   "execution_count": 33,
   "metadata": {},
   "outputs": [
    {
     "data": {
      "text/plain": [
       "Ttest_indResult(statistic=0.8350623487823995, pvalue=0.40401498289916693)"
      ]
     },
     "execution_count": 33,
     "metadata": {},
     "output_type": "execute_result"
    }
   ],
   "source": [
    "ttest_ind(df[\"early_norm\"], df[\"mid_norm\"])"
   ]
  },
  {
   "cell_type": "code",
   "execution_count": 55,
   "metadata": {},
   "outputs": [
    {
     "data": {
      "text/plain": [
       "Ttest_indResult(statistic=7.47511753760392, pvalue=2.745530940604959e-13)"
      ]
     },
     "execution_count": 55,
     "metadata": {},
     "output_type": "execute_result"
    }
   ],
   "source": [
    "ttest_ind(df[\"mid_norm\"], df[\"late_norm\"])"
   ]
  },
  {
   "cell_type": "code",
   "execution_count": 57,
   "metadata": {},
   "outputs": [
    {
     "data": {
      "text/plain": [
       "Ttest_indResult(statistic=7.580740189640346, pvalue=1.3114195164263693e-13)"
      ]
     },
     "execution_count": 57,
     "metadata": {},
     "output_type": "execute_result"
    }
   ],
   "source": [
    "ttest_ind(df[\"early_norm\"], df[\"late_norm\"])"
   ]
  },
  {
   "cell_type": "code",
   "execution_count": 51,
   "metadata": {},
   "outputs": [
    {
     "data": {
      "text/html": [
       "<div>\n",
       "<style scoped>\n",
       "    .dataframe tbody tr th:only-of-type {\n",
       "        vertical-align: middle;\n",
       "    }\n",
       "\n",
       "    .dataframe tbody tr th {\n",
       "        vertical-align: top;\n",
       "    }\n",
       "\n",
       "    .dataframe thead th {\n",
       "        text-align: right;\n",
       "    }\n",
       "</style>\n",
       "<table border=\"1\" class=\"dataframe\">\n",
       "  <thead>\n",
       "    <tr style=\"text-align: right;\">\n",
       "      <th></th>\n",
       "      <th>sum_sq</th>\n",
       "      <th>df</th>\n",
       "      <th>F</th>\n",
       "      <th>PR(&gt;F)</th>\n",
       "    </tr>\n",
       "  </thead>\n",
       "  <tbody>\n",
       "    <tr>\n",
       "      <th>C(early_norm)</th>\n",
       "      <td>7.521036e+01</td>\n",
       "      <td>297.0</td>\n",
       "      <td>8.355548e+26</td>\n",
       "      <td>5.736309e-41</td>\n",
       "    </tr>\n",
       "    <tr>\n",
       "      <th>C(mid_norm)</th>\n",
       "      <td>7.447059e+01</td>\n",
       "      <td>294.0</td>\n",
       "      <td>8.357785e+26</td>\n",
       "      <td>5.734153e-41</td>\n",
       "    </tr>\n",
       "    <tr>\n",
       "      <th>C(late_norm)</th>\n",
       "      <td>7.715210e+01</td>\n",
       "      <td>297.0</td>\n",
       "      <td>8.571268e+26</td>\n",
       "      <td>5.521122e-41</td>\n",
       "    </tr>\n",
       "    <tr>\n",
       "      <th>Residual</th>\n",
       "      <td>9.092169e-28</td>\n",
       "      <td>3.0</td>\n",
       "      <td>NaN</td>\n",
       "      <td>NaN</td>\n",
       "    </tr>\n",
       "  </tbody>\n",
       "</table>\n",
       "</div>"
      ],
      "text/plain": [
       "                     sum_sq     df             F        PR(>F)\n",
       "C(early_norm)  7.521036e+01  297.0  8.355548e+26  5.736309e-41\n",
       "C(mid_norm)    7.447059e+01  294.0  8.357785e+26  5.734153e-41\n",
       "C(late_norm)   7.715210e+01  297.0  8.571268e+26  5.521122e-41\n",
       "Residual       9.092169e-28    3.0           NaN           NaN"
      ]
     },
     "execution_count": 51,
     "metadata": {},
     "output_type": "execute_result"
    }
   ],
   "source": [
    "# df = df[[\"prompt\", \"early_norm\", \"mid_norm\", \"late_norm\"]]\n",
    "# df[\"prompt\"] = df[\"prompt\"].apply(lambda x: {\"semi\": 0, \"goal\": 1}[x])\n",
    "# model = ols('prompt ~ C(early_norm) + C(mid_norm) + C(late_norm) + C(early_norm):C(mid_norm) + C(early_norm):C(late_norm) + C(mid_norm):C(late_norm)', data=df).fit()\n",
    "# sm.stats.anova_lm(model, typ=2)"
   ]
  },
  {
   "cell_type": "code",
   "execution_count": null,
   "metadata": {},
   "outputs": [],
   "source": []
  }
 ],
 "metadata": {
  "interpreter": {
   "hash": "e78bf4903358b3ee63f8041920f67726c5b27271272cdf14d612db182852a486"
  },
  "kernelspec": {
   "display_name": "Python 3.8.10 ('hcc-project-spring-22-0l-Hf1pn-py3.8')",
   "language": "python",
   "name": "python3"
  },
  "language_info": {
   "codemirror_mode": {
    "name": "ipython",
    "version": 3
   },
   "file_extension": ".py",
   "mimetype": "text/x-python",
   "name": "python",
   "nbconvert_exporter": "python",
   "pygments_lexer": "ipython3",
   "version": "3.8.10"
  },
  "orig_nbformat": 4
 },
 "nbformat": 4,
 "nbformat_minor": 2
}
