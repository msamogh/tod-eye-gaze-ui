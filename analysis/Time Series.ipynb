{
 "cells": [
  {
   "cell_type": "code",
   "execution_count": 13,
   "metadata": {},
   "outputs": [],
   "source": [
    "import pandas as pd\n",
    "import json\n",
    "import pickle\n",
    "from pathlib import Path\n",
    "from datetime import datetime\n",
    "\n",
    "from ds import Participant, GazePath"
   ]
  },
  {
   "cell_type": "code",
   "execution_count": 14,
   "metadata": {},
   "outputs": [],
   "source": [
    "participants = pickle.load(open(\"processed/participants.pkl\", \"rb\"))"
   ]
  },
  {
   "cell_type": "markdown",
   "metadata": {},
   "source": [
    "Remove first transcript"
   ]
  },
  {
   "cell_type": "code",
   "execution_count": 15,
   "metadata": {},
   "outputs": [
    {
     "name": "stdout",
     "output_type": "stream",
     "text": [
      "22, Yingbo Ma\n",
      "23, Jasmine McKenzie\n",
      "0, John Ng\n",
      "23, Amal Hashky\n",
      "23, Josh Abraham\n",
      "0, Shaina Murphy\n",
      "22, jahnavi Paruchuri\n",
      "0, Sri Chaitanya Nulu\n",
      "0, Anviksha Sharma\n"
     ]
    }
   ],
   "source": [
    "for p in participants:\n",
    "    if len(p.gaze_paths) != 21:\n",
    "        print(f\"{len(p.gaze_paths)}, {p.name}\")\n",
    "    p.gaze_paths = p.gaze_paths[1:21]"
   ]
  },
  {
   "cell_type": "code",
   "execution_count": 12,
   "metadata": {},
   "outputs": [
    {
     "data": {
      "text/plain": [
       "['Heting Wang',\n",
       " 'Raghav Gupta',\n",
       " 'Eric Navar',\n",
       " 'Jayavidhi Kumar',\n",
       " 'Yingbo Ma',\n",
       " 'Jasmine McKenzie',\n",
       " 'John Ng',\n",
       " 'Patriel Stapleton',\n",
       " 'Amal Hashky',\n",
       " 'Katarina Jurczyk',\n",
       " 'Nishant Agrawal',\n",
       " 'Monica Bhargavi Kodali',\n",
       " 'Mariana Molano',\n",
       " 'Josh Abraham',\n",
       " 'Shaina Murphy',\n",
       " 'Hengxu You',\n",
       " 'jahnavi Paruchuri',\n",
       " 'Sri Chaitanya Nulu',\n",
       " 'Anviksha Sharma']"
      ]
     },
     "execution_count": 12,
     "metadata": {},
     "output_type": "execute_result"
    }
   ],
   "source": [
    "list(map(lambda x: x.name, participants))"
   ]
  },
  {
   "cell_type": "code",
   "execution_count": 11,
   "metadata": {},
   "outputs": [
    {
     "data": {
      "text/plain": [
       "[Participant(name='jahnavi Paruchuri', email='d@d.com', start_time=datetime.datetime(2022, 3, 21, 21, 14, 20, 903205), calibaration_quality=3, gaze_paths=[])]"
      ]
     },
     "execution_count": 11,
     "metadata": {},
     "output_type": "execute_result"
    }
   ],
   "source": [
    "[p for p in participants if p.name == 'jahnavi Paruchuri']"
   ]
  },
  {
   "cell_type": "code",
   "execution_count": null,
   "metadata": {},
   "outputs": [],
   "source": []
  }
 ],
 "metadata": {
  "interpreter": {
   "hash": "e78bf4903358b3ee63f8041920f67726c5b27271272cdf14d612db182852a486"
  },
  "kernelspec": {
   "display_name": "Python 3.8.10 ('hcc-project-spring-22-0l-Hf1pn-py3.8')",
   "language": "python",
   "name": "python3"
  },
  "language_info": {
   "codemirror_mode": {
    "name": "ipython",
    "version": 3
   },
   "file_extension": ".py",
   "mimetype": "text/x-python",
   "name": "python",
   "nbconvert_exporter": "python",
   "pygments_lexer": "ipython3",
   "version": "3.8.10"
  },
  "orig_nbformat": 4
 },
 "nbformat": 4,
 "nbformat_minor": 2
}
